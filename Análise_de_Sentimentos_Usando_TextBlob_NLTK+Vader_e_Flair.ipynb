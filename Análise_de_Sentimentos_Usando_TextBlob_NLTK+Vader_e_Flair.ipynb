{
  "nbformat": 4,
  "nbformat_minor": 0,
  "metadata": {
    "colab": {
      "provenance": [],
      "include_colab_link": true
    },
    "kernelspec": {
      "name": "python3",
      "display_name": "Python 3"
    },
    "language_info": {
      "name": "python"
    }
  },
  "cells": [
    {
      "cell_type": "markdown",
      "metadata": {
        "id": "view-in-github",
        "colab_type": "text"
      },
      "source": [
        "<a href=\"https://colab.research.google.com/github/clovesrocha/AnaliseDeSentimentos/blob/main/An%C3%A1lise_de_Sentimentos_Usando_TextBlob_NLTK%2BVader_e_Flair.ipynb\" target=\"_parent\"><img src=\"https://colab.research.google.com/assets/colab-badge.svg\" alt=\"Open In Colab\"/></a>"
      ]
    },
    {
      "cell_type": "markdown",
      "source": [
        "# Análise de Sentimento Simples\n",
        "Neste documento faremos uma análise de sentimento simples usando 3 bibliotecas distintas para compararmos os resultados. Sendo elas:\n",
        "- TextBlob\n",
        "- NLTK + Vader\n",
        "- Flair"
      ],
      "metadata": {
        "id": "vQsHnT4LFOWH"
      }
    },
    {
      "cell_type": "code",
      "execution_count": null,
      "metadata": {
        "colab": {
          "base_uri": "https://localhost:8080/"
        },
        "id": "66kZCVtMhtb5",
        "outputId": "9bae2151-2dbd-42d2-89bd-1549d56fe556"
      },
      "outputs": [
        {
          "output_type": "stream",
          "name": "stderr",
          "text": [
            "[nltk_data] Downloading package vader_lexicon to /root/nltk_data...\n",
            "[nltk_data]   Package vader_lexicon is already up-to-date!\n"
          ]
        }
      ],
      "source": [
        "#lib TextBlob para análise de sentimento e tradução\n",
        "from textblob import TextBlob\n",
        "\n",
        "#lib nltk para análise de sentimento\n",
        "import nltk\n",
        "nltk.download('vader_lexicon')\n",
        "from nltk.sentiment.vader import SentimentIntensityAnalyzer\n",
        "\n",
        "#lib flair para análise de sentimento\n",
        "import flair\n",
        "flair_sentiment = flair.models.TextClassifier.load('en-sentiment')"
      ]
    },
    {
      "cell_type": "markdown",
      "source": [
        "### No bloco a seguir está o texto que será analisado em ambos os modelos"
      ],
      "metadata": {
        "id": "mbpX7V20FpTl"
      }
    },
    {
      "cell_type": "code",
      "source": [
        "#preenchimento do texto a ser analisado (Em português)\n",
        "text = 'Não é um bom aplicativo'"
      ],
      "metadata": {
        "id": "3Dylnl65i0Ht"
      },
      "execution_count": null,
      "outputs": []
    },
    {
      "cell_type": "markdown",
      "source": [
        "### As bibliotecas são pre-treinadas e funcionam melhor em inglês, então vamos traduzir o texto usando o TextBlob para utilizar nas predições"
      ],
      "metadata": {
        "id": "UMWTVBaeFxzs"
      }
    },
    {
      "cell_type": "code",
      "source": [
        "#criando objeto TextBlob para tratar o texto em português e traduzir para inglês (idioma suportado pelas libs)\n",
        "blob = TextBlob(text)\n",
        "blob_t = blob.translate(from_lang='pt-br', to='en')\n",
        "text_translated = str(blob_t)"
      ],
      "metadata": {
        "id": "Bm4oOrvGi7Xr"
      },
      "execution_count": null,
      "outputs": []
    },
    {
      "cell_type": "markdown",
      "source": [
        "#Análise usando o TextBlob\n",
        "O Textblob possui uma função de análise de polaridade da sentença e através dela podemos definir se o texto tem sentimento positivo, negativo ou neutro. Neste caso usaremos o texto traduzido como sentença para avaliar seu sentimento.\n",
        "Para isto, valores negativos de polaridade serão considerados como sentimento negativo, valores de polaridade positivos serão considerados como sentimentos positivos e polaridade igual a 0 serão sentimentos neutros."
      ],
      "metadata": {
        "id": "SAl2GGqnGE98"
      }
    },
    {
      "cell_type": "code",
      "source": [
        "#fazendo análise de polaridade usando a lib TextBlob\n",
        "p = blob_t.sentiment.polarity\n",
        "if p < 0:\n",
        "  result = 'Negativo'\n",
        "elif p > 0:\n",
        "  result = 'Positivo'\n",
        "elif p == 0:\n",
        "  result = 'Neutro'\n",
        "else:\n",
        "  result = 'Indefinido'\n",
        "\n",
        "print(f'Resultado: Sentimento {result}')\n",
        "print(f'Polaridade: {p}')"
      ],
      "metadata": {
        "colab": {
          "base_uri": "https://localhost:8080/"
        },
        "id": "4N-fbUpZlazp",
        "outputId": "05d31e4c-948c-4dbf-aca9-532334ac44e0"
      },
      "execution_count": null,
      "outputs": [
        {
          "output_type": "stream",
          "name": "stdout",
          "text": [
            "Resultado: Sentimento Negativo\n",
            "Polaridade: -0.35\n"
          ]
        }
      ]
    },
    {
      "cell_type": "markdown",
      "source": [
        "Acima podemos verificar que a polaridade do texto foi negativa, então o sentimento predito pela análise de sentimento do TextBlob é negativo."
      ],
      "metadata": {
        "id": "h6y7yJCSH4Kc"
      }
    },
    {
      "cell_type": "markdown",
      "source": [
        "\n",
        "#Análise usando NLTK + Vader\n",
        "Abaixo usaremos a biblioteca NLTK com a análise de sentimento pre-treinada VADER. Esta função calcula valores positivos, negativos, neutros e o compound. Neste caso para definir se o sentimento é positivo, negativo ou neutro, usaremos o valor do compound para definir o resultado. Sendo assim, quando o compound for menor que -0,05 consideramos que o sentimento é negativo, quando o compound está entre -0,05 e 0,05, consideramos o sentimento como neutro e quando o compouns está acima de 0,05 consideramos o sentimento como positivo."
      ],
      "metadata": {
        "id": "MrUlgQvNIFQc"
      }
    },
    {
      "cell_type": "code",
      "source": [
        "#Fazendo análise de sentimento do texto usando a lib nltk e vader\n",
        "sid = SentimentIntensityAnalyzer()\n",
        "scores = sid.polarity_scores(text_translated)\n",
        "compound = scores['compound']\n",
        "\n",
        "if compound >= 0.05:\n",
        "  result = 'Positivo'\n",
        "elif compound > -0.05 and compound < 0.05:\n",
        "  result = 'Neutro'\n",
        "elif compound <= -0.05:\n",
        "  result = 'Negativo'\n",
        "else:\n",
        "  result = 'Indefinido'\n",
        "\n",
        "\n",
        "print(f'Resultado: Sentimento {result}')\n",
        "print(f'Compound: {compound}')\n",
        "print(f'Scores: {scores}')"
      ],
      "metadata": {
        "colab": {
          "base_uri": "https://localhost:8080/"
        },
        "id": "L1GCX5hptScL",
        "outputId": "5c567bee-4561-44c4-dffe-03cc58eaa68a"
      },
      "execution_count": null,
      "outputs": [
        {
          "output_type": "stream",
          "name": "stdout",
          "text": [
            "Resultado: Sentimento Negativo\n",
            "Compound: -0.3412\n",
            "Scores: {'neg': 0.376, 'neu': 0.624, 'pos': 0.0, 'compound': -0.3412}\n"
          ]
        }
      ]
    },
    {
      "cell_type": "markdown",
      "source": [
        "Acima podemos ver que o compound foi negativo e portando o sentimento é negativo."
      ],
      "metadata": {
        "id": "8pZ1Q_PYJr-G"
      }
    },
    {
      "cell_type": "markdown",
      "source": [
        "\n",
        "#Análise de Sentimento com Flair\n",
        "A predição de sentimento feita pela biblioteca flair é especificamente com o retorno positivo ou negativo da senteça, com uma margem de confiança.\n",
        "Quando o valor do retorno é vazio, então a sentença pode ser considerada neutra."
      ],
      "metadata": {
        "id": "wCDcmC61JzWX"
      }
    },
    {
      "cell_type": "code",
      "source": [
        "#fazendo analise de sentimento usando a lib flair\n",
        "s = flair.data.Sentence(text_translated)\n",
        "flair_sentiment.predict(s)\n",
        "total_sentiment = s.labels\n",
        "total_sentiment\n",
        "\n",
        "s.to_dict()\n",
        "s.to_dict()['text']\n",
        "s.to_dict()['all labels'][0]['value']\n",
        "s.to_dict()['all labels'][0]['confidence']\n",
        "\n",
        "print(f\"Texto avaliado: {s.to_dict()['text']}\")\n",
        "print(f\"Sentimento: {s.to_dict()['all labels'][0]['value']}\")\n",
        "print(f\"Confidence: {s.to_dict()['all labels'][0]['confidence']}\")\n"
      ],
      "metadata": {
        "colab": {
          "base_uri": "https://localhost:8080/"
        },
        "id": "iOSnZdk1xms7",
        "outputId": "03f9a85b-26ce-4bf7-eaf9-b6f7c7471293"
      },
      "execution_count": null,
      "outputs": [
        {
          "output_type": "stream",
          "name": "stdout",
          "text": [
            "Texto avaliado: It is not a good application\n",
            "Sentimento: NEGATIVE\n",
            "Confidence: 0.9996412992477417\n"
          ]
        }
      ]
    },
    {
      "cell_type": "markdown",
      "source": [
        "Acima podemos ver que a sentença foi considerada negativa com uma margem de confiança de 99%"
      ],
      "metadata": {
        "id": "A1f5_wpnKeZw"
      }
    },
    {
      "cell_type": "markdown",
      "source": [
        "#Conclusão\n",
        "Todos os modelos indicaram o sentimento correto da sentença, cabe ao desenvolvedor analisar mais a fundo cada um e testar em uma base de dados maior onde possa avaliar a performance.\n",
        "\n",
        "Próximos passos:\n",
        "- Testar novas senteças para definir qual modelo funciona melhor;\n",
        "- Testar com uma base de dados com muitas sentenças e que já estejam classificadas corretamente, para assim, conseguir comparar e avaliar o desempenho do modelo;\n",
        "- Verificar formas de melhorar a performance, personalizando ou ajustando hiperparametros;\n",
        "- Colocar em produção criando um batch job que classifica uma base de dados ou gerando uma api que classifica através de um endpoint que receba as sentenças;"
      ],
      "metadata": {
        "id": "pfWN3PkAKsId"
      }
    }
  ]
}